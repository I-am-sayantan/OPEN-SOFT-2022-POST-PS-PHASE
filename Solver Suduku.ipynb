{
 "cells": [
  {
   "cell_type": "code",
   "execution_count": 1,
   "id": "42c63250",
   "metadata": {},
   "outputs": [
    {
     "name": "stdout",
     "output_type": "stream",
     "text": [
      "Collecting opencv-python\n",
      "  Downloading opencv_python-4.5.5.62-cp36-abi3-win_amd64.whl (35.4 MB)\n",
      "Requirement already satisfied: numpy>=1.17.3 in c:\\users\\bhosa\\anaconda3\\lib\\site-packages (from opencv-python) (1.20.3)\n",
      "Installing collected packages: opencv-python\n",
      "Successfully installed opencv-python-4.5.5.62\n"
     ]
    }
   ],
   "source": [
    "!pip install opencv-python"
   ]
  },
  {
   "cell_type": "code",
   "execution_count": 1,
   "id": "c112e297",
   "metadata": {},
   "outputs": [],
   "source": [
    "import cv2\n",
    "import numpy as np"
   ]
  },
  {
   "cell_type": "code",
   "execution_count": 30,
   "id": "defbe895",
   "metadata": {},
   "outputs": [
    {
     "data": {
      "text/plain": [
       "-1"
      ]
     },
     "execution_count": 30,
     "metadata": {},
     "output_type": "execute_result"
    }
   ],
   "source": [
    "img1 = cv2.imread(\"images.jpeg\")\n",
    "\n",
    "cv2.imshow(\"XYZ1.jpeg\", img1)\n",
    "cv2.waitKey(0)"
   ]
  },
  {
   "cell_type": "code",
   "execution_count": 31,
   "id": "a6824dd7",
   "metadata": {},
   "outputs": [],
   "source": [
    "def preprocess(img):\n",
    "    \n",
    "    img_grayscale = cv2.cvtColor(img, cv2.COLOR_BGR2GRAY)\n",
    "    \n",
    "    img_gaussian = cv2.GaussianBlur(img_grayscale, (5,5), 1)\n",
    "    \n",
    "#     print(img_gaussian.shape)\n",
    "\n",
    "    img_threshold = cv2.adaptiveThreshold(img_gaussian, 255, 1, 1, 11, 2)\n",
    "    \n",
    "    return img_threshold"
   ]
  },
  {
   "cell_type": "code",
   "execution_count": 32,
   "id": "0b008969",
   "metadata": {},
   "outputs": [
    {
     "data": {
      "text/plain": [
       "-1"
      ]
     },
     "execution_count": 32,
     "metadata": {},
     "output_type": "execute_result"
    }
   ],
   "source": [
    "cv2.imshow(\"XYZ2.jpeg\", preprocess(img1))\n",
    "cv2.waitKey(0)"
   ]
  },
  {
   "cell_type": "code",
   "execution_count": 33,
   "id": "d02d2ff5",
   "metadata": {},
   "outputs": [],
   "source": [
    "def draw_contour(img_original, img_threshold):\n",
    "    \n",
    "    contours, hierarchy = cv2.findContours(img_threshold, cv2.RETR_EXTERNAL, cv2.CHAIN_APPROX_SIMPLE)\n",
    "    \n",
    "    return contours, cv2.drawContours(img_original, contours, -1, (0, 255, 255), 3)"
   ]
  },
  {
   "cell_type": "code",
   "execution_count": 34,
   "id": "9cdcb32d",
   "metadata": {},
   "outputs": [
    {
     "data": {
      "text/plain": [
       "-1"
      ]
     },
     "execution_count": 34,
     "metadata": {},
     "output_type": "execute_result"
    }
   ],
   "source": [
    "img_threshold = preprocess(img1)\n",
    "\n",
    "contours, img_contour = draw_contour(img1, img_threshold)\n",
    "\n",
    "cv2.imshow(\"XYZ3.jpeg\", img_contour)\n",
    "cv2.waitKey(0)"
   ]
  },
  {
   "cell_type": "code",
   "execution_count": 42,
   "id": "3f4548c7",
   "metadata": {},
   "outputs": [],
   "source": [
    "def biggest_contour(contours):\n",
    "    \n",
    "    biggest = np.array([])\n",
    "    max_area = 0\n",
    "    \n",
    "    for i in contours:\n",
    "        area = cv2.contourArea(i)\n",
    "        \n",
    "        if area > 50:\n",
    "            peri = cv2.arcLength(i, True)\n",
    "            \n",
    "            approx = cv2.approxPolyDP(i, 0.02 * peri, True)\n",
    "            \n",
    "            if area > max_area and len(approx) == 4:\n",
    "                biggest = approx\n",
    "                \n",
    "                max_area = area\n",
    "                \n",
    "    return biggest, max_area"
   ]
  },
  {
   "cell_type": "code",
   "execution_count": 43,
   "id": "4598da5a",
   "metadata": {
    "scrolled": false
   },
   "outputs": [
    {
     "name": "stdout",
     "output_type": "stream",
     "text": [
      "[[[  0 118]]\n",
      "\n",
      " [[  0 121]]\n",
      "\n",
      " [[  3 121]]\n",
      "\n",
      " [[  3 118]]] 9.0\n"
     ]
    }
   ],
   "source": [
    "biggest, max_area = biggest_contour(contours)\n",
    "\n",
    "print(biggest, max_area)"
   ]
  },
  {
   "cell_type": "code",
   "execution_count": 44,
   "id": "4d27c9e2",
   "metadata": {},
   "outputs": [],
   "source": [
    "def reorder(points):\n",
    "    points = points.reshape((4, 2))\n",
    "    new_points = np.zeros((4, 1, 2), dtype=np.int32)\n",
    "    \n",
    "    add = points.sum(1)\n",
    "    new_points[0] = points[np.argmin(add)]\n",
    "    new_points[3] = points[np.argmax(add)]\n",
    "    \n",
    "    diff = np.diff(points, axis=1)\n",
    "    new_points[1] = points[np.argmin(diff)]\n",
    "    new_points[2] = points[np.argmax(diff)]\n",
    " \n",
    "    return new_points"
   ]
  },
  {
   "cell_type": "code",
   "execution_count": 45,
   "id": "78e26a60",
   "metadata": {},
   "outputs": [
    {
     "name": "stdout",
     "output_type": "stream",
     "text": [
      "[[[  0 118]]\n",
      "\n",
      " [[  0 121]]\n",
      "\n",
      " [[  3 121]]\n",
      "\n",
      " [[  3 118]]] [[[  0 118]]\n",
      "\n",
      " [[  3 118]]\n",
      "\n",
      " [[  0 121]]\n",
      "\n",
      " [[  3 121]]]\n"
     ]
    }
   ],
   "source": [
    "print(biggest, reorder(biggest))"
   ]
  },
  {
   "cell_type": "code",
   "execution_count": 46,
   "id": "7736ac26",
   "metadata": {},
   "outputs": [
    {
     "data": {
      "text/plain": [
       "-1"
      ]
     },
     "execution_count": 46,
     "metadata": {},
     "output_type": "execute_result"
    }
   ],
   "source": [
    "biggest = reorder(biggest)\n",
    "\n",
    "cv2.drawContours(img_contour, biggest, -1, (0, 0), 25)\n",
    "\n",
    "pts1 = np.float32(biggest)\n",
    "pts2 = np.float32([[0, 0], [450, 0], [0, 450], [450, 450]])\n",
    "\n",
    "matrix = cv2.getPerspectiveTransform(pts1, pts2)\n",
    "\n",
    "img_wrap_colored = cv2.warpPerspective(img1, matrix, (450, 450))\n",
    "\n",
    "img_wrap_colored = cv2.cvtColor(img_wrap_colored, cv2.COLOR_BGR2GRAY)\n",
    "\n",
    "cv2.imshow(\"XYZ4.jpeg\", img_wrap_colored)\n",
    "cv2.waitKey(0)"
   ]
  },
  {
   "cell_type": "code",
   "execution_count": null,
   "id": "2251b0d7",
   "metadata": {},
   "outputs": [],
   "source": []
  },
  {
   "cell_type": "code",
   "execution_count": null,
   "id": "9b49cc39",
   "metadata": {},
   "outputs": [],
   "source": []
  }
 ],
 "metadata": {
  "kernelspec": {
   "display_name": "Python 3 (ipykernel)",
   "language": "python",
   "name": "python3"
  },
  "language_info": {
   "codemirror_mode": {
    "name": "ipython",
    "version": 3
   },
   "file_extension": ".py",
   "mimetype": "text/x-python",
   "name": "python",
   "nbconvert_exporter": "python",
   "pygments_lexer": "ipython3",
   "version": "3.9.7"
  }
 },
 "nbformat": 4,
 "nbformat_minor": 5
}
